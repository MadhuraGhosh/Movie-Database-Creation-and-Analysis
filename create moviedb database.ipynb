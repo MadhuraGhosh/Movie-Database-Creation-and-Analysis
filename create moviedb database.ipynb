{
 "cells": [
  {
   "cell_type": "code",
   "execution_count": 3,
   "id": "e3f50d68-99c9-4884-a71c-ff4dace372d9",
   "metadata": {},
   "outputs": [
    {
     "name": "stdout",
     "output_type": "stream",
     "text": [
      "Collecting faker\n",
      "  Downloading Faker-28.1.0-py3-none-any.whl.metadata (15 kB)\n",
      "Requirement already satisfied: python-dateutil>=2.4 in c:\\users\\user\\anaconda3\\lib\\site-packages (from faker) (2.9.0.post0)\n",
      "Requirement already satisfied: six>=1.5 in c:\\users\\user\\anaconda3\\lib\\site-packages (from python-dateutil>=2.4->faker) (1.16.0)\n",
      "Downloading Faker-28.1.0-py3-none-any.whl (1.8 MB)\n",
      "   ---------------------------------------- 0.0/1.8 MB ? eta -:--:--\n",
      "    --------------------------------------- 0.0/1.8 MB 640.0 kB/s eta 0:00:03\n",
      "   -- ------------------------------------- 0.1/1.8 MB 1.3 MB/s eta 0:00:02\n",
      "   ----- ---------------------------------- 0.2/1.8 MB 1.3 MB/s eta 0:00:02\n",
      "   ------ --------------------------------- 0.3/1.8 MB 1.4 MB/s eta 0:00:02\n",
      "   --------- ------------------------------ 0.4/1.8 MB 1.5 MB/s eta 0:00:01\n",
      "   --------- ------------------------------ 0.4/1.8 MB 1.4 MB/s eta 0:00:01\n",
      "   ------------- -------------------------- 0.6/1.8 MB 1.6 MB/s eta 0:00:01\n",
      "   --------------- ------------------------ 0.7/1.8 MB 1.6 MB/s eta 0:00:01\n",
      "   ------------------- -------------------- 0.9/1.8 MB 1.8 MB/s eta 0:00:01\n",
      "   ---------------------- ----------------- 1.0/1.8 MB 1.9 MB/s eta 0:00:01\n",
      "   ------------------------ --------------- 1.1/1.8 MB 1.8 MB/s eta 0:00:01\n",
      "   --------------------------- ------------ 1.3/1.8 MB 2.0 MB/s eta 0:00:01\n",
      "   --------------------------- ------------ 1.3/1.8 MB 2.0 MB/s eta 0:00:01\n",
      "   -------------------------------- ------- 1.5/1.8 MB 2.0 MB/s eta 0:00:01\n",
      "   ---------------------------------- ----- 1.6/1.8 MB 2.0 MB/s eta 0:00:01\n",
      "   -------------------------------------- - 1.7/1.8 MB 2.0 MB/s eta 0:00:01\n",
      "   ---------------------------------------- 1.8/1.8 MB 2.0 MB/s eta 0:00:00\n",
      "Installing collected packages: faker\n",
      "Successfully installed faker-28.1.0\n",
      "Note: you may need to restart the kernel to use updated packages.\n"
     ]
    }
   ],
   "source": [
    "pip install faker"
   ]
  },
  {
   "cell_type": "code",
   "execution_count": 13,
   "id": "5f1fc2bd-c9a0-4074-9ea0-cf5d14275709",
   "metadata": {},
   "outputs": [],
   "source": [
    "import sqlite3\n",
    "import random\n",
    "from faker import Faker\n",
    "\n",
    "# Initialize Faker\n",
    "fake = Faker()\n",
    "\n",
    "# Connect to SQLite database\n",
    "conn = sqlite3.connect('movies.db')\n",
    "cursor = conn.cursor()\n",
    "\n",
    "# Create movies table\n",
    "cursor.execute('''\n",
    "CREATE TABLE IF NOT EXISTS movies (\n",
    "    id INTEGER PRIMARY KEY,\n",
    "    title TEXT,\n",
    "    genre TEXT,\n",
    "    director TEXT,\n",
    "    release_year INTEGER,\n",
    "    duration INTEGER,  -- duration in minutes\n",
    "    rating REAL,       -- IMDb rating\n",
    "    votes INTEGER      -- number of votes\n",
    ")\n",
    "''')\n",
    "\n",
    "# Generate and insert 500 movies\n",
    "genres = ['Action', 'Comedy', 'Drama', 'Horror', 'Sci-Fi', 'Romance']\n",
    "for _ in range(500):\n",
    "    title = fake.catch_phrase()\n",
    "    genre = random.choice(genres)\n",
    "    director = fake.name()\n",
    "    release_year = random.randint(1980, 2023)\n",
    "    duration = random.randint(80, 180)\n",
    "    rating = round(random.uniform(1.0, 10.0), 1)\n",
    "    votes = random.randint(1000, 1000000)\n",
    "    \n",
    "    cursor.execute('''\n",
    "    INSERT INTO movies (title, genre, director, release_year, duration, rating, votes)\n",
    "    VALUES (?, ?, ?, ?, ?, ?, ?)\n",
    "    ''', (title, genre, director, release_year, duration, rating, votes))\n",
    "\n",
    "# Commit and close connection\n",
    "conn.commit()\n",
    "conn.close()\n"
   ]
  },
  {
   "cell_type": "code",
   "execution_count": null,
   "id": "64290f7a-1c2a-4563-a703-bad143357320",
   "metadata": {},
   "outputs": [],
   "source": []
  },
  {
   "cell_type": "code",
   "execution_count": null,
   "id": "2c6306f9-12c3-47ab-9251-6eaf27fd5b23",
   "metadata": {},
   "outputs": [],
   "source": []
  }
 ],
 "metadata": {
  "kernelspec": {
   "display_name": "Python 3 (ipykernel)",
   "language": "python",
   "name": "python3"
  },
  "language_info": {
   "codemirror_mode": {
    "name": "ipython",
    "version": 3
   },
   "file_extension": ".py",
   "mimetype": "text/x-python",
   "name": "python",
   "nbconvert_exporter": "python",
   "pygments_lexer": "ipython3",
   "version": "3.12.4"
  }
 },
 "nbformat": 4,
 "nbformat_minor": 5
}
